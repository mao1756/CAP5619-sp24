{
  "nbformat": 4,
  "nbformat_minor": 0,
  "metadata": {
    "colab": {
      "provenance": [],
      "authorship_tag": "ABX9TyMNUpuHYq0Z1j8JChwiwr7w",
      "include_colab_link": true
    },
    "kernelspec": {
      "name": "python3",
      "display_name": "Python 3"
    },
    "language_info": {
      "name": "python"
    }
  },
  "cells": [
    {
      "cell_type": "markdown",
      "metadata": {
        "id": "view-in-github",
        "colab_type": "text"
      },
      "source": [
        "<a href=\"https://colab.research.google.com/github/mao1756/CAP5619-sp24/blob/main/q3main.ipynb\" target=\"_parent\"><img src=\"https://colab.research.google.com/assets/colab-badge.svg\" alt=\"Open In Colab\"/></a>"
      ]
    },
    {
      "cell_type": "markdown",
      "source": [
        "# Q3 Notebook"
      ],
      "metadata": {
        "id": "m9FGnZkxI-6l"
      }
    },
    {
      "cell_type": "code",
      "source": [
        "!wget http://www.cs.fsu.edu/~liux/courses/deepRL/assignments/hw2_softmax_weights.m\n",
        "!pip install oct2py"
      ],
      "metadata": {
        "colab": {
          "base_uri": "https://localhost:8080/"
        },
        "id": "S_oaC3toNd_y",
        "outputId": "10d12934-e5e7-4e34-9de0-15aea5d08dd4"
      },
      "execution_count": 12,
      "outputs": [
        {
          "output_type": "stream",
          "name": "stdout",
          "text": [
            "Collecting oct2py\n",
            "  Downloading oct2py-5.6.0-py3-none-any.whl (45 kB)\n",
            "\u001b[?25l     \u001b[90m━━━━━━━━━━━━━━━━━━━━━━━━━━━━━━━━━━━━━━━━\u001b[0m \u001b[32m0.0/45.7 kB\u001b[0m \u001b[31m?\u001b[0m eta \u001b[36m-:--:--\u001b[0m\r\u001b[2K     \u001b[90m━━━━━━━━━━━━━━━━━━━━━━━━━━━━━━━━━━━━━━━━\u001b[0m \u001b[32m45.7/45.7 kB\u001b[0m \u001b[31m1.4 MB/s\u001b[0m eta \u001b[36m0:00:00\u001b[0m\n",
            "\u001b[?25hRequirement already satisfied: numpy>=1.12 in /usr/local/lib/python3.10/dist-packages (from oct2py) (1.23.5)\n",
            "Requirement already satisfied: octave-kernel>=0.34.0 in /usr/local/lib/python3.10/dist-packages (from oct2py) (0.35.1)\n",
            "Requirement already satisfied: scipy>=0.17 in /usr/local/lib/python3.10/dist-packages (from oct2py) (1.11.4)\n",
            "Requirement already satisfied: ipykernel in /usr/local/lib/python3.10/dist-packages (from octave-kernel>=0.34.0->oct2py) (5.5.6)\n",
            "Requirement already satisfied: jupyter-client>=4.3.0 in /usr/local/lib/python3.10/dist-packages (from octave-kernel>=0.34.0->oct2py) (6.1.12)\n",
            "Requirement already satisfied: metakernel>=0.24.0 in /usr/local/lib/python3.10/dist-packages (from octave-kernel>=0.34.0->oct2py) (0.30.1)\n",
            "Requirement already satisfied: traitlets in /usr/local/lib/python3.10/dist-packages (from jupyter-client>=4.3.0->octave-kernel>=0.34.0->oct2py) (5.7.1)\n",
            "Requirement already satisfied: jupyter-core>=4.6.0 in /usr/local/lib/python3.10/dist-packages (from jupyter-client>=4.3.0->octave-kernel>=0.34.0->oct2py) (5.7.1)\n",
            "Requirement already satisfied: pyzmq>=13 in /usr/local/lib/python3.10/dist-packages (from jupyter-client>=4.3.0->octave-kernel>=0.34.0->oct2py) (23.2.1)\n",
            "Requirement already satisfied: python-dateutil>=2.1 in /usr/local/lib/python3.10/dist-packages (from jupyter-client>=4.3.0->octave-kernel>=0.34.0->oct2py) (2.8.2)\n",
            "Requirement already satisfied: tornado>=4.1 in /usr/local/lib/python3.10/dist-packages (from jupyter-client>=4.3.0->octave-kernel>=0.34.0->oct2py) (6.3.2)\n",
            "Requirement already satisfied: jedi>=0.18 in /usr/local/lib/python3.10/dist-packages (from metakernel>=0.24.0->octave-kernel>=0.34.0->oct2py) (0.19.1)\n",
            "Requirement already satisfied: pexpect>=4.8 in /usr/local/lib/python3.10/dist-packages (from metakernel>=0.24.0->octave-kernel>=0.34.0->oct2py) (4.9.0)\n",
            "Requirement already satisfied: ipython-genutils in /usr/local/lib/python3.10/dist-packages (from ipykernel->octave-kernel>=0.34.0->oct2py) (0.2.0)\n",
            "Requirement already satisfied: ipython>=5.0.0 in /usr/local/lib/python3.10/dist-packages (from ipykernel->octave-kernel>=0.34.0->oct2py) (7.34.0)\n",
            "Requirement already satisfied: setuptools>=18.5 in /usr/local/lib/python3.10/dist-packages (from ipython>=5.0.0->ipykernel->octave-kernel>=0.34.0->oct2py) (67.7.2)\n",
            "Requirement already satisfied: decorator in /usr/local/lib/python3.10/dist-packages (from ipython>=5.0.0->ipykernel->octave-kernel>=0.34.0->oct2py) (4.4.2)\n",
            "Requirement already satisfied: pickleshare in /usr/local/lib/python3.10/dist-packages (from ipython>=5.0.0->ipykernel->octave-kernel>=0.34.0->oct2py) (0.7.5)\n",
            "Requirement already satisfied: prompt-toolkit!=3.0.0,!=3.0.1,<3.1.0,>=2.0.0 in /usr/local/lib/python3.10/dist-packages (from ipython>=5.0.0->ipykernel->octave-kernel>=0.34.0->oct2py) (3.0.43)\n",
            "Requirement already satisfied: pygments in /usr/local/lib/python3.10/dist-packages (from ipython>=5.0.0->ipykernel->octave-kernel>=0.34.0->oct2py) (2.16.1)\n",
            "Requirement already satisfied: backcall in /usr/local/lib/python3.10/dist-packages (from ipython>=5.0.0->ipykernel->octave-kernel>=0.34.0->oct2py) (0.2.0)\n",
            "Requirement already satisfied: matplotlib-inline in /usr/local/lib/python3.10/dist-packages (from ipython>=5.0.0->ipykernel->octave-kernel>=0.34.0->oct2py) (0.1.6)\n",
            "Requirement already satisfied: parso<0.9.0,>=0.8.3 in /usr/local/lib/python3.10/dist-packages (from jedi>=0.18->metakernel>=0.24.0->octave-kernel>=0.34.0->oct2py) (0.8.3)\n",
            "Requirement already satisfied: platformdirs>=2.5 in /usr/local/lib/python3.10/dist-packages (from jupyter-core>=4.6.0->jupyter-client>=4.3.0->octave-kernel>=0.34.0->oct2py) (4.2.0)\n",
            "Requirement already satisfied: ptyprocess>=0.5 in /usr/local/lib/python3.10/dist-packages (from pexpect>=4.8->metakernel>=0.24.0->octave-kernel>=0.34.0->oct2py) (0.7.0)\n",
            "Requirement already satisfied: six>=1.5 in /usr/local/lib/python3.10/dist-packages (from python-dateutil>=2.1->jupyter-client>=4.3.0->octave-kernel>=0.34.0->oct2py) (1.16.0)\n",
            "Requirement already satisfied: wcwidth in /usr/local/lib/python3.10/dist-packages (from prompt-toolkit!=3.0.0,!=3.0.1,<3.1.0,>=2.0.0->ipython>=5.0.0->ipykernel->octave-kernel>=0.34.0->oct2py) (0.2.13)\n",
            "Installing collected packages: oct2py\n",
            "Successfully installed oct2py-5.6.0\n"
          ]
        }
      ]
    },
    {
      "cell_type": "code",
      "source": [
        "# save weights\n",
        "from oct2py import octave as oct\n",
        "oct.eval('run hw2_softmax_weights.m')\n",
        "oct.eval(\"save -v7 weights.mat\")"
      ],
      "metadata": {
        "id": "wwWDJWNvOdEu"
      },
      "execution_count": 13,
      "outputs": []
    },
    {
      "cell_type": "code",
      "source": [
        "# load weights using scipy\n",
        "import scipy.io as sio\n",
        "weights = sio.loadmat('weights.mat')\n",
        "bias = weights['softmax_bias']\n",
        "weights = weights['softmax_weight']"
      ],
      "metadata": {
        "id": "7MPbQLFLPYrz"
      },
      "execution_count": 18,
      "outputs": []
    },
    {
      "cell_type": "markdown",
      "source": [
        "#Q1"
      ],
      "metadata": {
        "id": "9kpNy7wAWoj_"
      }
    },
    {
      "cell_type": "code",
      "source": [
        "# check the shapes\n",
        "print(bias.shape)\n",
        "print(weights.shape)"
      ],
      "metadata": {
        "colab": {
          "base_uri": "https://localhost:8080/"
        },
        "id": "TZv6Pa0YPcs9",
        "outputId": "55eb5816-5254-482d-c016-a42af3cad4e3"
      },
      "execution_count": 23,
      "outputs": [
        {
          "output_type": "stream",
          "name": "stdout",
          "text": [
            "(1, 20)\n",
            "(100, 20)\n"
          ]
        }
      ]
    },
    {
      "cell_type": "markdown",
      "source": [
        "# Q2"
      ],
      "metadata": {
        "id": "9WcB-Q6LWszm"
      }
    },
    {
      "cell_type": "code",
      "source": [
        "# import the samples\n",
        "!wget http://www.cs.fsu.edu/~liux/courses/deepRL/assignments/hw2_softmax_sample.txt\n",
        "oct.eval('run hw2_softmax_sample.txt')\n",
        "oct.eval(\"save -v7 sample.mat\")\n",
        "sam = sio.loadmat('sample.mat')\n",
        "samples = sam['asample']"
      ],
      "metadata": {
        "colab": {
          "base_uri": "https://localhost:8080/"
        },
        "id": "ZW4Ga9lcP73o",
        "outputId": "40a8a23e-e0bd-4f7d-f933-a45a8a13c5bf"
      },
      "execution_count": 26,
      "outputs": [
        {
          "output_type": "stream",
          "name": "stdout",
          "text": [
            "--2024-02-06 21:18:39--  http://www.cs.fsu.edu/~liux/courses/deepRL/assignments/hw2_softmax_sample.txt\n",
            "Resolving www.cs.fsu.edu (www.cs.fsu.edu)... 128.186.122.19\n",
            "Connecting to www.cs.fsu.edu (www.cs.fsu.edu)|128.186.122.19|:80... connected.\n",
            "HTTP request sent, awaiting response... 200 OK\n",
            "Length: 662 [text/plain]\n",
            "Saving to: ‘hw2_softmax_sample.txt.2’\n",
            "\n",
            "\rhw2_softmax_sample.   0%[                    ]       0  --.-KB/s               \rhw2_softmax_sample. 100%[===================>]     662  --.-KB/s    in 0s      \n",
            "\n",
            "2024-02-06 21:18:39 (82.3 MB/s) - ‘hw2_softmax_sample.txt.2’ saved [662/662]\n",
            "\n"
          ]
        }
      ]
    },
    {
      "cell_type": "code",
      "source": [
        "samples = samples.reshape(-1)"
      ],
      "metadata": {
        "id": "gYihIU2cUZ1f"
      },
      "execution_count": 37,
      "outputs": []
    },
    {
      "cell_type": "code",
      "source": [
        "import torch\n",
        "\n",
        "class Softmax(torch.nn.Module):\n",
        "  def __init__(self, weights, bias):\n",
        "    super(Softmax, self).__init__()\n",
        "    self.linear = torch.nn.Linear(weights.shape[0], weights.shape[1])\n",
        "    self.linear.weight = torch.nn.Parameter(torch.tensor(weights.T))\n",
        "    self.linear.bias = torch.nn.Parameter(torch.tensor(bias.flatten()))\n",
        "    self.softmax = torch.nn.Softmax(dim=0)\n",
        "\n",
        "  def forward(self, x):\n",
        "    x = self.linear(x)\n",
        "    x = self.softmax(x)\n",
        "    return x\n",
        "\n",
        "# define the model\n",
        "model_softmax = Softmax(weights, bias)\n",
        "\n",
        "# forward pass\n",
        "outputs = model_softmax(torch.tensor(samples))\n",
        "\n",
        "# classify the sample\n",
        "predictions = torch.argmax(outputs)\n",
        "predictions = predictions.numpy()\n",
        "print(predictions)"
      ],
      "metadata": {
        "colab": {
          "base_uri": "https://localhost:8080/"
        },
        "id": "mFonjo63Svw0",
        "outputId": "48c27b7d-bf01-45ed-e481-2c6b894bef58"
      },
      "execution_count": 70,
      "outputs": [
        {
          "output_type": "stream",
          "name": "stdout",
          "text": [
            "3\n"
          ]
        }
      ]
    },
    {
      "cell_type": "markdown",
      "source": [
        "#Q3"
      ],
      "metadata": {
        "id": "nVkECyn5ZUSY"
      }
    },
    {
      "cell_type": "code",
      "source": [
        "opt = torch.optim.SGD(model_softmax.parameters(), lr=0.1)\n",
        "opt.zero_grad()\n",
        "loss = -torch.log(outputs[5]) # cross_entopy\n",
        "loss.backward()\n",
        "opt.step()\n",
        "\n",
        "\n",
        "# check how many weights and biases incread/decreased/same\n",
        "# increased weights\n",
        "print((model_softmax.linear.weight-torch.tensor(weights.T)>0.00001).sum())\n",
        "# decreased weights\n",
        "print((model_softmax.linear.weight-torch.tensor(weights.T)<-0.00001).sum())\n",
        "# same weights\n",
        "print(((model_softmax.linear.weight-torch.tensor(weights.T)<0.00001)\n",
        "& (model_softmax.linear.weight-torch.tensor(weights.T)>-0.00001)).sum())\n",
        "\n",
        "# increased bias\n",
        "print(sum(model_softmax.linear.bias-torch.tensor(bias.flatten())>0.00001))\n",
        "# decreased bias\n",
        "print(sum(model_softmax.linear.bias-torch.tensor(bias.flatten())<-0.00001))\n",
        "# same weights\n",
        "print(sum((model_softmax.linear.bias-torch.tensor(bias.flatten())<0.00001 ) & (model_softmax.linear.bias-torch.tensor(bias.flatten())>-0.00001)))\n"
      ],
      "metadata": {
        "colab": {
          "base_uri": "https://localhost:8080/"
        },
        "id": "23X7xMvlZTV0",
        "outputId": "49809a43-fb0b-44b6-ab2f-c4b154992719"
      },
      "execution_count": 68,
      "outputs": [
        {
          "output_type": "stream",
          "name": "stdout",
          "text": [
            "tensor(10)\n",
            "tensor(180)\n",
            "tensor(1810)\n",
            "tensor(1)\n",
            "tensor(18)\n",
            "tensor(1)\n"
          ]
        }
      ]
    },
    {
      "cell_type": "markdown",
      "source": [
        "# Q4"
      ],
      "metadata": {
        "id": "bbWOq8K0mYvX"
      }
    },
    {
      "cell_type": "code",
      "source": [
        "from scipy.optimize import fmin_l_bfgs_b\n",
        "\n"
      ],
      "metadata": {
        "id": "6QQHLXxdmZk5"
      },
      "execution_count": null,
      "outputs": []
    }
  ]
}