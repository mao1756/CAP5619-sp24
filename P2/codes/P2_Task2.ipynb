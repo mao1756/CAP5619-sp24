{
 "cells": [
  {
   "cell_type": "code",
   "execution_count": 2,
   "id": "f9b57370-fa85-4cf1-9bac-6ef8b18a1ece",
   "metadata": {},
   "outputs": [],
   "source": [
    "from transformers import GPT2Model, GPT2Tokenizer\n",
    "import torch\n",
    "import numpy as np\n",
    "import pandas as pd\n",
    "from tqdm import tqdm"
   ]
  },
  {
   "cell_type": "code",
   "execution_count": 32,
   "id": "0bb66920-ef4c-49ea-b0e7-b51a29de7a1e",
   "metadata": {},
   "outputs": [],
   "source": [
    "df = pd.read_csv('C:/Users/farez/amazon_reviews.csv')\n",
    "del df[df.columns[0]] # first column is just index so we drop"
   ]
  },
  {
   "cell_type": "code",
   "execution_count": 30,
   "id": "f23c936c-3ac4-4814-b4e8-55949f114cbb",
   "metadata": {},
   "outputs": [
    {
     "name": "stdout",
     "output_type": "stream",
     "text": [
      "      reviewerName  overall  \\\n",
      "0              NaN      4.0   \n",
      "1             0mie      5.0   \n",
      "2              1K3      4.0   \n",
      "3              1m2      5.0   \n",
      "4     2&amp;1/2Men      5.0   \n",
      "...            ...      ...   \n",
      "4910        ZM \"J\"      1.0   \n",
      "4911            Zo      5.0   \n",
      "4912     Z S Liske      5.0   \n",
      "4913      Z Taylor      5.0   \n",
      "4914           Zza      5.0   \n",
      "\n",
      "                                             reviewText  reviewTime  day_diff  \\\n",
      "0                                            No issues.  2014-07-23       138   \n",
      "1     Purchased this for my device, it worked as adv...  2013-10-25       409   \n",
      "2     it works as expected. I should have sprung for...  2012-12-23       715   \n",
      "3     This think has worked out great.Had a diff. br...  2013-11-21       382   \n",
      "4     Bought it with Retail Packaging, arrived legit...  2013-07-13       513   \n",
      "...                                                 ...         ...       ...   \n",
      "4910  I bought this Sandisk 16GB Class 10 to use wit...  2013-07-23       503   \n",
      "4911  Used this for extending the capabilities of my...  2013-08-22       473   \n",
      "4912  Great card that is very fast and reliable. It ...  2014-03-31       252   \n",
      "4913  Good amount of space for the stuff I want to d...  2013-09-16       448   \n",
      "4914  I've heard bad things about this 64gb Micro SD...  2014-02-01       310   \n",
      "\n",
      "      helpful_yes  helpful_no  total_vote  score_pos_neg_diff  \\\n",
      "0               0           0           0                   0   \n",
      "1               0           0           0                   0   \n",
      "2               0           0           0                   0   \n",
      "3               0           0           0                   0   \n",
      "4               0           0           0                   0   \n",
      "...           ...         ...         ...                 ...   \n",
      "4910            0           0           0                   0   \n",
      "4911            0           0           0                   0   \n",
      "4912            0           0           0                   0   \n",
      "4913            0           0           0                   0   \n",
      "4914            0           0           0                   0   \n",
      "\n",
      "      score_average_rating  wilson_lower_bound  \n",
      "0                      0.0                 0.0  \n",
      "1                      0.0                 0.0  \n",
      "2                      0.0                 0.0  \n",
      "3                      0.0                 0.0  \n",
      "4                      0.0                 0.0  \n",
      "...                    ...                 ...  \n",
      "4910                   0.0                 0.0  \n",
      "4911                   0.0                 0.0  \n",
      "4912                   0.0                 0.0  \n",
      "4913                   0.0                 0.0  \n",
      "4914                   0.0                 0.0  \n",
      "\n",
      "[4915 rows x 11 columns]\n"
     ]
    }
   ],
   "source": [
    "print(df)"
   ]
  },
  {
   "cell_type": "code",
   "execution_count": 41,
   "id": "bc939dbb-e0de-48f3-a882-c87b870be1c2",
   "metadata": {},
   "outputs": [],
   "source": [
    "class MyDataset(torch.utils.data.Dataset):\n",
    "    def __init__(self, data_list):\n",
    "        self.data_list = data_list\n",
    "\n",
    "    def __len__(self):\n",
    "        return len(self.data_list)\n",
    "\n",
    "    def __getitem__(self, idx):\n",
    "        return self.data_list[idx]\n",
    "\n",
    "text = df['reviewText'].tolist()\n",
    "text = [item for item in text if isinstance(item, str)] # removing any reviews that are not strings\n",
    "dataset = MyDataset(text)\n",
    "train_size = int(0.8 * len(dataset))\n",
    "test_size = len(dataset) - train_size\n",
    "train_dataset, test_dataset = torch.utils.data.random_split(dataset, [train_size, test_size])\n",
    "train_text = [train_dataset[i] for i in range(len(train_dataset))]\n",
    "test_text = [test_dataset[i] for i in range(len(test_dataset))]"
   ]
  },
  {
   "cell_type": "code",
   "execution_count": null,
   "id": "3f7c1175-482a-4bea-91dd-5eb3465ce127",
   "metadata": {},
   "outputs": [
    {
     "name": "stderr",
     "output_type": "stream",
     "text": [
      "  0%|          | 0/492 [00:00<?, ?it/s]"
     ]
    }
   ],
   "source": [
    "tokenizer = GPT2Tokenizer.from_pretrained('gpt2')\n",
    "model = GPT2Model.from_pretrained('gpt2')\n",
    "\n",
    "tokenizer.pad_token = tokenizer.eos_token  # Use the end of sequence token as padding token.\n",
    "encoded_inputs = tokenizer(text, padding=True, truncation=True, return_tensors=\"pt\")\n",
    "\n",
    "\n",
    "embeddings = []\n",
    "# obtain embeddings\n",
    "\n",
    "chunk = 10\n",
    "for i in tqdm(range(0,len(encoded_inputs['input_ids']),chunk)):\n",
    "    with torch.no_grad():\n",
    "        outputs = model(encoded_inputs['input_ids'][i:i+chunk])\n",
    "        hidden_states = outputs.last_hidden_state\n",
    "        embeddings.append(torch.mean(hidden_states, dim=1))  # mean pooling\n",
    "\n",
    "print(embeddings)"
   ]
  },
  {
   "cell_type": "code",
   "execution_count": 46,
   "id": "294e979f-b10d-4243-8188-e758da4794a1",
   "metadata": {},
   "outputs": [
    {
     "name": "stdout",
     "output_type": "stream",
     "text": [
      "Chunk 1: [1, 2, 3, 4]\n",
      "Chunk 2: [5, 6, 7, 8]\n",
      "Chunk 3: [9]\n"
     ]
    }
   ],
   "source": []
  },
  {
   "cell_type": "code",
   "execution_count": 47,
   "id": "07ff9896-4f40-4e82-a50e-29b7f8dc2a20",
   "metadata": {},
   "outputs": [
    {
     "data": {
      "text/plain": [
       "3931"
      ]
     },
     "execution_count": 47,
     "metadata": {},
     "output_type": "execute_result"
    }
   ],
   "source": [
    "len(encoded_inputs['input_ids'])"
   ]
  },
  {
   "cell_type": "code",
   "execution_count": null,
   "id": "c8b82f2d-4630-4289-aeb3-2d38f6d08564",
   "metadata": {},
   "outputs": [],
   "source": []
  },
  {
   "cell_type": "code",
   "execution_count": null,
   "id": "f2922b2c-6f0a-4718-8e74-02e173a156b1",
   "metadata": {},
   "outputs": [],
   "source": []
  }
 ],
 "metadata": {
  "kernelspec": {
   "display_name": "Python 3 (ipykernel)",
   "language": "python",
   "name": "python3"
  },
  "language_info": {
   "codemirror_mode": {
    "name": "ipython",
    "version": 3
   },
   "file_extension": ".py",
   "mimetype": "text/x-python",
   "name": "python",
   "nbconvert_exporter": "python",
   "pygments_lexer": "ipython3",
   "version": "3.11.8"
  }
 },
 "nbformat": 4,
 "nbformat_minor": 5
}
